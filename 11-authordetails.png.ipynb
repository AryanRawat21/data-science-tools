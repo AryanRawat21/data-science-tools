{
 "cells": [
  {
   "cell_type": "code",
   "execution_count": null,
   "id": "1a2c05e5-0caf-4002-bcb3-41e264350e8c",
   "metadata": {},
   "outputs": [],
   "source": []
  },
  {
   "cell_type": "markdown",
   "id": "d9fb01cd-91ba-4da6-8185-683acc1d7970",
   "metadata": {},
   "source": [
    "## Introduction  \n",
    "This notebook provides an overview of data science tools, languages, and libraries. It also includes examples of basic arithmetic operations to demonstrate how Jupyterlite Notebook works.\n"
   ]
  },
  {
   "cell_type": "markdown",
   "id": "4099bc96-e8e7-4057-b7ef-21327a9b8a0b",
   "metadata": {},
   "source": [
    "## Data Science Languages  \n",
    "Data scientists use a variety of programming languages to analyze and interpret data. Below is a list of some popular data science languages:  \n",
    "\n",
    "1. Python  \n",
    "2. R  \n",
    "3. SQL  \n",
    "4. Java  \n",
    "5. Julia  \n",
    "6. Scala  \n"
   ]
  },
  {
   "cell_type": "markdown",
   "id": "126087a7-00a7-4054-9092-5448e3cc6e6c",
   "metadata": {},
   "source": [
    "## Data Science Libraries  \n",
    "Data science relies on various libraries to process and analyze data, create visualizations, and build machine learning models. Below are some commonly used libraries in data science:  \n",
    "\n",
    "1. Pandas  \n",
    "2. NumPy  \n",
    "3. Matplotlib  \n",
    "4. Scikit-learn  \n",
    "5. TensorFlow  \n",
    "6. PyTorch  \n",
    "7. Seaborn  \n"
   ]
  },
  {
   "cell_type": "markdown",
   "id": "7e8fe96a-a06e-4709-8bd6-7fa13bedf6d3",
   "metadata": {},
   "source": [
    "## Data Science Tools  \n",
    "Below is a table of some commonly used tools in data science and their purposes:  \n",
    "\n",
    "| Tool           | Description                              |  \n",
    "|----------------|------------------------------------------|  \n",
    "| Jupyter Notebook | Interactive coding environment          |  \n",
    "| RStudio        | IDE for R programming                   |  \n",
    "| Apache Spark   | Distributed computing platform           |  \n",
    "| Tableau        | Data visualization and business analytics |  \n",
    "| TensorFlow     | Open-source machine learning framework   |  \n"
   ]
  },
  {
   "cell_type": "markdown",
   "id": "013434cf-5dbb-481e-9a5b-ea0eb968baa8",
   "metadata": {},
   "source": [
    "## Arithmetic Expression Examples  \n",
    "Arithmetic expressions are used to perform basic mathematical operations such as addition, subtraction, multiplication, and division. Below, you'll find examples of how these expressions can be executed in Python.\n"
   ]
  },
  {
   "cell_type": "markdown",
   "id": "27ee5f76-812e-465d-949a-71700faace21",
   "metadata": {},
   "source": [
    "# Multiply and Add Numbers\n",
    "result = (5 * 3) + 8\n",
    "print(\"The result of (5 * 3) + 8 is:\", result)\n"
   ]
  },
  {
   "cell_type": "markdown",
   "id": "99d8c4ee-ba14-4298-a548-75a93b7ee658",
   "metadata": {},
   "source": [
    "# Convert Minutes to Hours\n",
    "minutes = 200\n",
    "hours = minutes / 60\n",
    "print(f\"{minutes} minutes is equal to {hours:.2f} hours.\")\n"
   ]
  },
  {
   "cell_type": "markdown",
   "id": "172223b3-d1c8-497f-957a-c1205e89865d",
   "metadata": {},
   "source": [
    "## Objectives  \n",
    "The objectives of this notebook are as follows:  \n",
    "\n",
    "- Introduce popular data science tools, languages, and libraries.  \n",
    "- Provide examples of basic arithmetic operations.  \n",
    "- Demonstrate how to create and execute Markdown and code cells in Jupyterlite.  \n",
    "- Share the completed notebook via a public GitHub repository.\n"
   ]
  },
  {
   "cell_type": "markdown",
   "id": "6f7db9b1-d702-4118-8c4e-175f003a8f6f",
   "metadata": {},
   "source": [
    "## Author  \n",
    "Aryan Rawat\n",
    "This notebook was created as part of the Data Science Tools and Ecosystem course final assignment.\n"
   ]
  },
  {
   "cell_type": "markdown",
   "id": "f3e44ab5-8d09-47af-9ebd-9be9fb82f86d",
   "metadata": {},
   "source": []
  }
 ],
 "metadata": {
  "kernelspec": {
   "display_name": "Python 3 (ipykernel)",
   "language": "python",
   "name": "python3"
  },
  "language_info": {
   "codemirror_mode": {
    "name": "ipython",
    "version": 3
   },
   "file_extension": ".py",
   "mimetype": "text/x-python",
   "name": "python",
   "nbconvert_exporter": "python",
   "pygments_lexer": "ipython3",
   "version": "3.12.8"
  }
 },
 "nbformat": 4,
 "nbformat_minor": 5
}
